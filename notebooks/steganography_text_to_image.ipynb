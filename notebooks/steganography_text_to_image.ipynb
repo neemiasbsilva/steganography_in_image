{
  "nbformat": 4,
  "nbformat_minor": 0,
  "metadata": {
    "colab": {
      "name": "steganography_text_to_image.ipynb",
      "provenance": [],
      "mount_file_id": "1rlztVm8hMV5jn_P0x1LzdcvzyX4cviNo",
      "authorship_tag": "ABX9TyPKmUX8i08R1yQpnJKO9PXQ"
    },
    "kernelspec": {
      "name": "python3",
      "display_name": "Python 3"
    },
    "language_info": {
      "name": "python"
    }
  },
  "cells": [
    {
      "cell_type": "markdown",
      "source": [
        "# Import Libraries and Setup Environment"
      ],
      "metadata": {
        "id": "ZQE54ayZSj2c"
      }
    },
    {
      "cell_type": "code",
      "execution_count": null,
      "metadata": {
        "id": "NpczeT2lRn7g"
      },
      "outputs": [],
      "source": [
        "import os\n",
        "import numpy as np\n",
        "import cv2\n",
        "\n",
        "from PIL import Image\n",
        "import binascii as t\n",
        "import binascii\n",
        "import codecs\n",
        "import optparse\n",
        "\n",
        "import matplotlib.pyplot as plt\n",
        "\n",
        "%matplotlib inline"
      ]
    },
    {
      "cell_type": "code",
      "source": [
        "os.chdir(\"/content/drive/My Drive/steganography\")\n",
        "%ls"
      ],
      "metadata": {
        "colab": {
          "base_uri": "https://localhost:8080/"
        },
        "id": "-P_LLzLPSZpU",
        "outputId": "a709fab6-b696-4ef1-fdc7-ede62624ad70"
      },
      "execution_count": null,
      "outputs": [
        {
          "output_type": "stream",
          "name": "stdout",
          "text": [
            "\u001b[0m\u001b[01;34mdata\u001b[0m/  \u001b[01;34mnotebooks\u001b[0m/  \u001b[01;34mpresentation\u001b[0m/  \u001b[01;34mreports\u001b[0m/\n"
          ]
        }
      ]
    },
    {
      "cell_type": "markdown",
      "source": [
        "# Encoder"
      ],
      "metadata": {
        "id": "pdLC8oKOSs-T"
      }
    },
    {
      "cell_type": "code",
      "source": [
        "file_name = \"data/monalisa.jpeg\"\n",
        "directory = \"reports\""
      ],
      "metadata": {
        "id": "XAI3ef2ESr9f"
      },
      "execution_count": null,
      "outputs": []
    },
    {
      "cell_type": "code",
      "source": [
        "message = open(\"data/message.txt\", 'r').read()\n",
        "message"
      ],
      "metadata": {
        "id": "z_0YEUBoVoXg"
      },
      "execution_count": null,
      "outputs": []
    },
    {
      "cell_type": "code",
      "source": [
        "def hex_to_rgb(hex_code):\n",
        "    value = hex_code.lstrip('#')\n",
        "    lv = len(value)\n",
        "    return tuple(int(value[i:i + lv // 3], 16) for i in range(0, lv, lv // 3))\n",
        "\n",
        "\n",
        "def encoder(hex_code, digit):\n",
        "    if (hex_code[-1] in ('0', '1', '2', '3', '4', '5')):\n",
        "        hex_code = hex_code[:-1] + digit\n",
        "        return hex_code\n",
        "    return None\n",
        "\n",
        "\n",
        "def rgb_to_hex(r, g, b):\n",
        "    return \"#{:02x}{:02x}{:02x}\".format(r, g, b)\n",
        "\n",
        "\n",
        "def str_to_bin(message):\n",
        "    binary = bin(int(binascii.hexlify(message.encode(\"ascii\")), 16))\n",
        "    return binary[2:]\n",
        "\n",
        "\n",
        "def load_image(file_name):\n",
        "    image = Image.open(file_name)\n",
        "    if (image.mode in (\"RGBA\")):\n",
        "        image = image.convert(\"RGBA\")\n",
        "        return image\n",
        "    return None\n",
        "\n",
        "\n",
        "def hide(file_name, message, directory):\n",
        "    img = load_image(file_name)\n",
        "    if (img != None):\n",
        "        data = img.getdata()\n",
        "        binary = str_to_bin(message) + \"1111111111111110\"\n",
        "        # print(binary)\n",
        "        # print(type(binary))\n",
        "        new_data = []\n",
        "        digit = 0\n",
        "        temp = ''\n",
        "        for d in data:\n",
        "            if (digit < len(binary)):\n",
        "                stego_ob = encoder(rgb_to_hex(d[0], d[1], d[2]), binary[digit])\n",
        "                # print(stego_ob)\n",
        "                if (stego_ob == None):\n",
        "                    new_data.append(d)\n",
        "                else:\n",
        "                    r, g, b = hex_to_rgb(stego_ob)\n",
        "                    # print(r, g, b)\n",
        "                    new_data.append((r, g, b, 255))\n",
        "                    digit += 1\n",
        "            else:\n",
        "                new_data.append(d)\n",
        "        img.putdata(new_data)\n",
        "        img.save(os.path.join(directory, file_name.split('/')[-1].split('.')[0]), \"PNG\")\n",
        "        return \"Hide succefully!\" \n",
        "    return \"Incorrect image mode, couldn't hide\""
      ],
      "metadata": {
        "id": "ZeH1rFHOUvd7"
      },
      "execution_count": null,
      "outputs": []
    },
    {
      "cell_type": "code",
      "source": [
        "hide(file_name, message, directory)"
      ],
      "metadata": {
        "colab": {
          "base_uri": "https://localhost:8080/",
          "height": 35
        },
        "id": "ajYrcJBaXKqF",
        "outputId": "a6741f3b-923a-4970-b58a-e05b68ef979a"
      },
      "execution_count": null,
      "outputs": [
        {
          "output_type": "execute_result",
          "data": {
            "text/plain": [
              "'Hide succefully!'"
            ],
            "application/vnd.google.colaboratory.intrinsic+json": {
              "type": "string"
            }
          },
          "metadata": {},
          "execution_count": 34
        }
      ]
    },
    {
      "cell_type": "code",
      "source": [
        "img = cv2.imread(file_name)\n",
        "img = cv2.cvtColor(img, cv2.COLOR_BGR2RGB)\n",
        "\n",
        "plt.figure(figsize = (20,10))\n",
        "fig = plt.imshow(img)\n",
        "fig.axes.get_xaxis().set_visible(False)\n",
        "fig.axes.get_yaxis().set_visible(False)\n",
        "plt.show()"
      ],
      "metadata": {
        "id": "bYGIz8nLXNRa"
      },
      "execution_count": null,
      "outputs": []
    },
    {
      "cell_type": "code",
      "source": [
        "%ls reports"
      ],
      "metadata": {
        "colab": {
          "base_uri": "https://localhost:8080/"
        },
        "id": "lAFQaFD3j2lx",
        "outputId": "7fc16396-6245-4068-e17d-a18a005f732f"
      },
      "execution_count": null,
      "outputs": [
        {
          "output_type": "stream",
          "name": "stdout",
          "text": [
            "monalisa\n"
          ]
        }
      ]
    },
    {
      "cell_type": "code",
      "source": [
        "steganography_image = \"reports/monalisa\""
      ],
      "metadata": {
        "id": "reinAa4Hjp2B"
      },
      "execution_count": null,
      "outputs": []
    },
    {
      "cell_type": "code",
      "source": [
        "img = cv2.imread(steganography_image)\n",
        "img = cv2.cvtColor(img, cv2.COLOR_BGR2RGB)\n",
        "\n",
        "plt.figure(figsize = (20,10))\n",
        "fig = plt.imshow(img)\n",
        "fig.axes.get_xaxis().set_visible(False)\n",
        "fig.axes.get_yaxis().set_visible(False)\n",
        "plt.show()"
      ],
      "metadata": {
        "id": "lVjlc80xjQJ5"
      },
      "execution_count": null,
      "outputs": []
    },
    {
      "cell_type": "markdown",
      "source": [
        "# Decoder"
      ],
      "metadata": {
        "id": "lOMp0THugw3n"
      }
    },
    {
      "cell_type": "code",
      "source": [
        "def bin_to_str(binary):\n",
        "    message = t.unhexlify(\"%x\" % int(\"0b\" + binary, 2))\n",
        "    return message\n",
        "\n",
        "\n",
        "def decoder(hex_code):\n",
        "    if (hex_code[-1] in ('0', '1')):\n",
        "        return hex_code[:-1]\n",
        "    return None\n",
        "\n",
        "\n",
        "def retrieving(file_name):\n",
        "    img = load_image(file_name)\n",
        "    binary = ''\n",
        "\n",
        "    if (img != None):\n",
        "        data = img.getdata()\n",
        "        for d in data:\n",
        "            digit = decoder(rgb_to_hex(d[0], d[1], d[2]))\n",
        "            if (binary[-16:] == \"1111111111111110\"):\n",
        "                print(\"Success!!\")\n",
        "                return bin_to_str(binary[:-16])\n",
        "        return message"
      ],
      "metadata": {
        "id": "hTD2xObBbfz6"
      },
      "execution_count": null,
      "outputs": []
    },
    {
      "cell_type": "code",
      "source": [
        "retrieving(steganography_image)"
      ],
      "metadata": {
        "id": "5VwIy7_Jlexl"
      },
      "execution_count": null,
      "outputs": []
    },
    {
      "cell_type": "code",
      "source": [
        ""
      ],
      "metadata": {
        "id": "9qff1mg0lm7w"
      },
      "execution_count": null,
      "outputs": []
    }
  ]
}